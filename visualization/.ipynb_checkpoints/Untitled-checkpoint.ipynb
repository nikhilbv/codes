{
 "cells": [
  {
   "cell_type": "code",
   "execution_count": 2,
   "metadata": {},
   "outputs": [],
   "source": [
    "import numpy as np\n",
    "import matplotlib.pyplot as plt"
   ]
  },
  {
   "cell_type": "code",
   "execution_count": 5,
   "metadata": {},
   "outputs": [],
   "source": [
    "'''\n",
    "# The height array needs to be sorted in decending order\n",
    "# Module to draw a bar graph\n",
    "'''\n",
    "def draw_bar_graph(x,y):\n",
    "    labels=x\n",
    "    heights=y\n",
    "    # Labels that can’t be used for plotting purpose. So we will generate an array of length of label and use it on X-axis\n",
    "    x_pos_labels = np.arange(len(labels))\n",
    "    # matplotlib.pyplot.bar(x, height, width=0.8, bottom=None, *, align='center', data=None, **kwargs)\n",
    "    plt.bar(x_pos_labels, heights, align='center', alpha=0.7,width=0.35)\n",
    "    # Scale limit on y axis i.e. 0-250000\n",
    "#     plt.ylim(0,250000)\n",
    "    # Labels will be placed on each tick that is generated due to index sequence.\n",
    "    plt.xticks(x_pos_labels, labels, rotation=80)\n",
    "    plt.title('Instances per category')\n",
    "    # Set the width and height\n",
    "    plt.rcParams[\"figure.figsize\"] = [22,5]\n",
    "    # To print the height values on bars\n",
    "    for a,b in zip(x_pos_labels, heights):\n",
    "#         c=b+20000\n",
    "        plt.text(a, b, str(b),rotation='vertical',ha='center')\n",
    "    plt.show()"
   ]
  },
  {
   "cell_type": "code",
   "execution_count": 6,
   "metadata": {},
   "outputs": [
    {
     "name": "stdout",
     "output_type": "stream",
     "text": [
      "[0 1 2 3 4]\n",
      "[0.7241944  0.59946447 0.00272145 0.75186603 0.72149923]\n"
     ]
    },
    {
     "data": {
      "image/png": "[encoded data removed]",
      "text/plain": [
       "<Figure size 1584x360 with 1 Axes>"
      ]
     },
     "metadata": {
      "needs_background": "light"
     },
     "output_type": "display_data"
    }
   ],
   "source": [
    "x = np.arange(5)\n",
    "print(x)\n",
    "y = np.random.rand(5)\n",
    "print(y)\n",
    "draw_bar_graph(x,y)"
   ]
  },
  {
   "cell_type": "code",
   "execution_count": 13,
   "metadata": {},
   "outputs": [
    {
     "name": "stdout",
     "output_type": "stream",
     "text": [
      "{'pred_match_total_annotation': [], 'classname': [], 'gt_total_annotation': [], 'mAP': []}\n"
     ]
    }
   ],
   "source": [
    "stats = {\n",
    "  'classname':[]\n",
    "  ,'pred_match_total_annotation':[]\n",
    "  ,'gt_total_annotation':[]\n",
    "  ,'mAP':[]\n",
    "}\n",
    "print(stats)"
   ]
  },
  {
   "cell_type": "code",
   "execution_count": 14,
   "metadata": {},
   "outputs": [
    {
     "name": "stdout",
     "output_type": "stream",
     "text": [
      "{'pred_match_total_annotation': [], 'classname': ['nikhil', 'raghu', 'rohit', 'das'], 'gt_total_annotation': [], 'mAP': []}\n"
     ]
    }
   ],
   "source": [
    "stats['classname']= ['nikhil','raghu','rohit','das']\n",
    "print(stats)"
   ]
  },
  {
   "cell_type": "code",
   "execution_count": 15,
   "metadata": {},
   "outputs": [
    {
     "name": "stdout",
     "output_type": "stream",
     "text": [
      "{'pred_match_total_annotation': [500, 10000, 600, 300], 'classname': ['nikhil', 'raghu', 'rohit', 'das'], 'gt_total_annotation': [450, 250, 10500, 350], 'mAP': []}\n"
     ]
    }
   ],
   "source": [
    "stats['pred_match_total_annotation']=[500,10000,600,300]\n",
    "stats['gt_total_annotation']=[450,250,10500,350]\n",
    "print(stats)"
   ]
  },
  {
   "cell_type": "code",
   "execution_count": 30,
   "metadata": {},
   "outputs": [
    {
     "name": "stdout",
     "output_type": "stream",
     "text": [
      "{'pred_match_total_annotation': [600, 500, 300, 10000], 'classname': ['rohit', 'nikhil', 'das', 'raghu'], 'gt_total_annotation': [10500, 450, 350, 250]}\n"
     ]
    }
   ],
   "source": [
    "iArr = {}\n",
    "for i in range(len(stats[\"gt_total_annotation\"])):\n",
    "  iArr[stats[\"gt_total_annotation\"][i]] = {\"classname\":stats[\"classname\"][i],\"gt_total_annotation\":stats[\"gt_total_annotation\"][i],\"pred_match_total_annotation\":stats[\"pred_match_total_annotation\"][i]}\n",
    "sortedVal = sorted(iArr,reverse=True)\n",
    "\n",
    "sorted_ann = {\"classname\":[],\"gt_total_annotation\":[],\"pred_match_total_annotation\":[]}\n",
    "for i in range(len(sortedVal)):\n",
    "  sorted_ann[\"classname\"].append(iArr[sortedVal[i]][\"classname\"])\n",
    "  sorted_ann[\"gt_total_annotation\"].append(iArr[sortedVal[i]][\"gt_total_annotation\"])\n",
    "  sorted_ann[\"pred_match_total_annotation\"].append(iArr[sortedVal[i]][\"pred_match_total_annotation\"])\n",
    "  \n",
    "\n",
    "print(sorted_ann)"
   ]
  },
  {
   "cell_type": "code",
   "execution_count": null,
   "metadata": {},
   "outputs": [],
   "source": []
  },
  {
   "cell_type": "code",
   "execution_count": null,
   "metadata": {},
   "outputs": [],
   "source": []
  }
 ],
 "metadata": {
  "kernelspec": {
   "display_name": "Python 3",
   "language": "python",
   "name": "python3"
  },
  "language_info": {
   "codemirror_mode": {
    "name": "ipython",
    "version": 3
   },
   "file_extension": ".py",
   "mimetype": "text/x-python",
   "name": "python",
   "nbconvert_exporter": "python",
   "pygments_lexer": "ipython3",
   "version": "3.5.2"
  }
 },
 "nbformat": 4,
 "nbformat_minor": 2
}
