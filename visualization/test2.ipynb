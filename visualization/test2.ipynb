{
 "cells": [
  {
   "cell_type": "code",
   "execution_count": 1,
   "metadata": {},
   "outputs": [
    {
     "data": {
      "text/plain": [
       "<Figure size 640x480 with 1 Axes>"
      ]
     },
     "metadata": {},
     "output_type": "display_data"
    }
   ],
   "source": [
    "import numpy as np\n",
    "import matplotlib.pyplot as plt\n",
    "\n",
    "N = 5\n",
    "men_means = (20, 35, 30, 35, 27)\n",
    "men_std = (2, 3, 4, 1, 2)\n",
    "\n",
    "ind = np.arange(N)  # the x locations for the groups\n",
    "width = 0.35       # the width of the bars\n",
    "\n",
    "fig, ax = plt.subplots()\n",
    "rects1 = ax.bar(ind, men_means, width, color='r', yerr=men_std)\n",
    "\n",
    "women_means = (25, 32, 34, 20, 25)\n",
    "women_std = (3, 5, 2, 3, 3)\n",
    "rects2 = ax.bar(ind + width, women_means, width, color='y', yerr=women_std)\n",
    "\n",
    "# add some text for labels, title and axes ticks\n",
    "ax.set_ylabel('Scores')\n",
    "ax.set_title('Scores by group and gender')\n",
    "ax.set_xticks(ind + width / 2)\n",
    "ax.set_xticklabels(('G1', 'G2', 'G3', 'G4', 'G5'))\n",
    "\n",
    "ax.legend((rects1[0], rects2[0]), ('Men', 'Women'))\n",
    "\n",
    "\n",
    "def autolabel(rects):\n",
    "    \"\"\"\n",
    "    Attach a text label above each bar displaying its height\n",
    "    \"\"\"\n",
    "    for rect in rects:\n",
    "        height = rect.get_height()\n",
    "        ax.text(rect.get_x() + rect.get_width()/2., 1.05*height,\n",
    "                '%d' % int(height),\n",
    "                ha='center', va='bottom')\n",
    "\n",
    "autolabel(rects1)\n",
    "autolabel(rects2)\n",
    "\n",
    "plt.show()"
   ]
  },
  {
   "cell_type": "code",
   "execution_count": 2,
   "metadata": {},
   "outputs": [
    {
     "data": {
      "image/png": "[encoded data removed]",
      "text/plain": [
       "<Figure size 432x288 with 1 Axes>"
      ]
     },
     "metadata": {
      "needs_background": "light"
     },
     "output_type": "display_data"
    }
   ],
   "source": [
    "import matplotlib.pyplot as plt\n",
    "import random\n",
    "\n",
    "x = range(13)\n",
    "y = [random.randrange(100) for _ in range(13)]\n",
    "plt.bar(x, y)\n",
    "#splt.yscale\n",
    "plt.ylim(-10, 110)\n",
    "for a,b in zip(x, y):\n",
    "    c=b+2\n",
    "    plt.text(a, c, str(b),ha='center')\n",
    "plt.show()"
   ]
  },
  {
   "cell_type": "code",
   "execution_count": 3,
   "metadata": {},
   "outputs": [
    {
     "name": "stdout",
     "output_type": "stream",
     "text": [
      "<matplotlib.ticker.FuncFormatter object at 0x7f824084ca20>\n",
      "y 0.0\n",
      "s 0.0\n",
      "y 0.2\n",
      "s 20.0\n",
      "y 0.4\n",
      "s 40.0\n",
      "y 0.6000000000000001\n",
      "s 60.00000000000001\n",
      "y 0.8\n",
      "s 80.0\n",
      "y 1.0\n",
      "s 100.0\n",
      "y 0.0\n",
      "s 0.0\n",
      "y 0.2\n",
      "s 20.0\n",
      "y 0.4\n",
      "s 40.0\n",
      "y 0.6000000000000001\n",
      "s 60.00000000000001\n",
      "y 0.8\n",
      "s 80.0\n",
      "y 1.0\n",
      "s 100.0\n",
      "y 0.0\n",
      "s 0.0\n",
      "y 0.2\n",
      "s 20.0\n",
      "y 0.4\n",
      "s 40.0\n",
      "y 0.6000000000000001\n",
      "s 60.00000000000001\n",
      "y 0.8\n",
      "s 80.0\n",
      "y 1.0\n",
      "s 100.0\n",
      "y 0.0\n",
      "s 0.0\n",
      "y 0.2\n",
      "s 20.0\n",
      "y 0.4\n",
      "s 40.0\n",
      "y 0.6000000000000001\n",
      "s 60.00000000000001\n",
      "y 0.8\n",
      "s 80.0\n",
      "y 1.0\n",
      "s 100.0\n",
      "y 0.0\n",
      "s 0.0\n",
      "y 0.2\n",
      "s 20.0\n",
      "y 0.4\n",
      "s 40.0\n",
      "y 0.6000000000000001\n",
      "s 60.00000000000001\n",
      "y 0.8\n",
      "s 80.0\n",
      "y 1.0\n",
      "s 100.0\n",
      "y 0.0\n",
      "s 0.0\n",
      "y 0.2\n",
      "s 20.0\n",
      "y 0.4\n",
      "s 40.0\n",
      "y 0.6000000000000001\n",
      "s 60.00000000000001\n",
      "y 0.8\n",
      "s 80.0\n",
      "y 1.0\n",
      "s 100.0\n",
      "y 0.0\n",
      "s 0.0\n",
      "y 0.2\n",
      "s 20.0\n",
      "y 0.4\n",
      "s 40.0\n",
      "y 0.6000000000000001\n",
      "s 60.00000000000001\n",
      "y 0.8\n",
      "s 80.0\n",
      "y 1.0\n",
      "s 100.0\n",
      "y 0.0\n",
      "s 0.0\n",
      "y 0.2\n",
      "s 20.0\n",
      "y 0.4\n",
      "s 40.0\n",
      "y 0.6000000000000001\n",
      "s 60.00000000000001\n",
      "y 0.8\n",
      "s 80.0\n",
      "y 1.0\n",
      "s 100.0\n",
      "y 0.0\n",
      "s 0.0\n",
      "y 0.2\n",
      "s 20.0\n",
      "y 0.4\n",
      "s 40.0\n",
      "y 0.6000000000000001\n",
      "s 60.00000000000001\n",
      "y 0.8\n",
      "s 80.0\n",
      "y 1.0\n",
      "s 100.0\n",
      "y 0.0\n",
      "s 0.0\n",
      "y 0.2\n",
      "s 20.0\n",
      "y 0.4\n",
      "s 40.0\n",
      "y 0.6000000000000001\n",
      "s 60.00000000000001\n",
      "y 0.8\n",
      "s 80.0\n",
      "y 1.0\n",
      "s 100.0\n",
      "y 0.0\n",
      "s 0.0\n",
      "y 0.2\n",
      "s 20.0\n",
      "y 0.4\n",
      "s 40.0\n",
      "y 0.6000000000000001\n",
      "s 60.00000000000001\n",
      "y 0.8\n",
      "s 80.0\n",
      "y 1.0\n",
      "s 100.0\n",
      "y 0.0\n",
      "s 0.0\n",
      "y 0.2\n",
      "s 20.0\n",
      "y 0.4\n",
      "s 40.0\n",
      "y 0.6000000000000001\n",
      "s 60.00000000000001\n",
      "y 0.8\n",
      "s 80.0\n",
      "y 1.0\n",
      "s 100.0\n",
      "y 0.0\n",
      "s 0.0\n",
      "y 0.2\n",
      "s 20.0\n",
      "y 0.4\n",
      "s 40.0\n",
      "y 0.6000000000000001\n",
      "s 60.00000000000001\n",
      "y 0.8\n",
      "s 80.0\n",
      "y 1.0\n",
      "s 100.0\n",
      "y 0.0\n",
      "s 0.0\n",
      "y 0.2\n",
      "s 20.0\n",
      "y 0.4\n",
      "s 40.0\n",
      "y 0.6000000000000001\n",
      "s 60.00000000000001\n",
      "y 0.8\n",
      "s 80.0\n",
      "y 1.0\n",
      "s 100.0\n"
     ]
    },
    {
     "data": {
      "image/png": "[encoded data removed]",
      "text/plain": [
       "<Figure size 432x288 with 1 Axes>"
      ]
     },
     "metadata": {
      "needs_background": "light"
     },
     "output_type": "display_data"
    }
   ],
   "source": [
    "import matplotlib\n",
    "from numpy.random import randn\n",
    "import matplotlib.pyplot as plt\n",
    "from matplotlib.ticker import FuncFormatter\n",
    "\n",
    "\n",
    "def to_percent(y, position):\n",
    "    # Ignore the passed in position. This has the effect of scaling the default\n",
    "    # tick locations.\n",
    "    print(\"y\",y)\n",
    "    s = str(100 * y)\n",
    "    print(\"s\",s)\n",
    "\n",
    "    # The percent symbol needs escaping in latex\n",
    "    if matplotlib.rcParams['text.usetex'] is True:\n",
    "        return s + r'$\\%$'\n",
    "    else:\n",
    "        return s + '%'\n",
    "\n",
    "# x = randn(5000)\n",
    "\n",
    "# Make a normed histogram. It'll be multiplied by 100 later.\n",
    "# plt.hist(x, bins=50, normed=True)\n",
    "\n",
    "# Create the formatter using the function to_percent. This multiplies all the\n",
    "# default labels by 100, making them all percentages\n",
    "formatter = FuncFormatter(to_percent)\n",
    "print(formatter)\n",
    "\n",
    "# Set the formatter\n",
    "plt.gca().yaxis.set_major_formatter(formatter)\n",
    "\n",
    "plt.show()"
   ]
  },
  {
   "cell_type": "code",
   "execution_count": 13,
   "metadata": {},
   "outputs": [
    {
     "data": {
      "image/png": "[encoded data removed]",
      "text/plain": [
       "<Figure size 432x288 with 1 Axes>"
      ]
     },
     "metadata": {
      "needs_background": "light"
     },
     "output_type": "display_data"
    }
   ],
   "source": [
    "import numpy as np\n",
    "import matplotlib.pyplot as plt\n",
    "import matplotlib.ticker as ticker\n",
    "\n",
    "x = [0,5,9,10,15]\n",
    "y = [0,1,2,3,4]\n",
    "fig, ax = plt.subplots()\n",
    "ax.plot(x,y)\n",
    "start_x, end_x = ax.get_xlim()\n",
    "ax.xaxis.set_ticks(np.arange(0, 16.5, 1.5))\n",
    "start_y, end_y = ax.get_ylim()\n",
    "ax.yaxis.set_ticks(np.arange(0, 110, 10))\n",
    "\n",
    "ax.xaxis.set_major_formatter(ticker.FormatStrFormatter('%0.1f'))\n",
    "plt.show()"
   ]
  },
  {
   "cell_type": "code",
   "execution_count": 19,
   "metadata": {},
   "outputs": [
    {
     "name": "stdout",
     "output_type": "stream",
     "text": [
      "range(0, 81)\n",
      "[87, 71, 8, 48, 60, 20, 59, 42, 62, 60, 0, 86, 83, 32, 93, 77, 20, 91, 82, 74, 96, 61, 31, 0, 99, 19, 65, 43, 30, 73, 88, 60, 69, 59, 89, 48, 19, 13, 7, 22, 24, 62, 83, 16, 44, 77, 43, 65, 95, 51, 50, 70, 42, 85, 30, 59, 96, 81, 48, 67, 24, 27, 34, 5, 66, 51, 45, 95, 52, 52, 70, 36, 89, 51, 84, 69, 65, 90, 18, 95, 67]\n"
     ]
    },
    {
     "data": {
      "image/png": "[encoded data removed]",
      "text/plain": [
       "<Figure size 432x288 with 1 Axes>"
      ]
     },
     "metadata": {
      "needs_background": "light"
     },
     "output_type": "display_data"
    }
   ],
   "source": [
    "import numpy as np\n",
    "import matplotlib.pyplot as plt\n",
    "\n",
    "\n",
    "# x1 = np.linspace(0.0, 5.0)\n",
    "# # x2 = np.linspace(0.0, 2.0)\n",
    "\n",
    "# y1 = np.cos(2 * np.pi * x1) * np.exp(-x1)\n",
    "# # y2 = np.cos(2 * np.pi * x2)\n",
    "\n",
    "x1 = range(81)\n",
    "y1 = [random.randrange(100) for _ in range(81)]\n",
    "\n",
    "\n",
    "print(x1)\n",
    "print(y1)\n",
    "# plt.subplot(2, 1, 1)\n",
    "plt.plot(x1, y1, 's-')\n",
    "plt.title('A tale of 2 subplots')\n",
    "plt.ylabel('Damped oscillation')\n",
    "\n",
    "# plt.subplot(2, 1, 2)\n",
    "# plt.plot(x2, y2, '.-')\n",
    "# plt.xlabel('time (s)')\n",
    "# plt.ylabel('Undamped')\n",
    "\n",
    "plt.show()"
   ]
  },
  {
   "cell_type": "code",
   "execution_count": null,
   "metadata": {},
   "outputs": [],
   "source": []
  }
 ],
 "metadata": {
  "kernelspec": {
   "display_name": "Python 3",
   "language": "python",
   "name": "python3"
  },
  "language_info": {
   "codemirror_mode": {
    "name": "ipython",
    "version": 3
   },
   "file_extension": ".py",
   "mimetype": "text/x-python",
   "name": "python",
   "nbconvert_exporter": "python",
   "pygments_lexer": "ipython3",
   "version": "3.5.2"
  }
 },
 "nbformat": 4,
 "nbformat_minor": 2
}
