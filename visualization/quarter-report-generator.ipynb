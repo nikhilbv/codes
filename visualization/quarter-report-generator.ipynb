{
 "cells": [
  {
   "cell_type": "code",
   "execution_count": null,
   "metadata": {},
   "outputs": [],
   "source": [
    "import json\n",
    "import os\n",
    "import cv2\n",
    "import matplotlib.pyplot as plt\n",
    "import numpy as np\n",
    "import seaborn as sns"
   ]
  },
  {
   "cell_type": "code",
   "execution_count": null,
   "metadata": {},
   "outputs": [],
   "source": [
    "x = ['RLD', 'RBD', 'RLD-CuLane', 'RLBD', 'RLD+RBD', 'ROD']\n",
    "y = [17, 6, 3, 1, 2, 2]\n",
    "best_till_date = ['0.7241', '0.8862', '0.8060', 'ne', '0.7896', 'ne']"
   ]
  },
  {
   "cell_type": "code",
   "execution_count": null,
   "metadata": {},
   "outputs": [],
   "source": [
    "sns.set(style=\"whitegrid\" , color_codes=True)\n",
    "x_pos_labels = np.arange(len(x))\n",
    "plt.bar(x_pos_labels, y, align='center', alpha=0.75, width =0.35)\n",
    "plt.xticks(x_pos_labels, x, rotation = 0)\n",
    "plt.ylim(0,18)\n",
    "plt.title('Illustrating best_acc w.r.t. total_training vs different training_type')\n",
    "plt.xlabel(\"training_type\")\n",
    "plt.ylabel(\"total_training\")\n",
    "plt.rcParams[\"figure.figsize\"] = [18,10]\n",
    "offset = 0.1\n",
    "for a,b,c in zip(x_pos_labels, y, best_till_date):\n",
    "    d=b+offset\n",
    "    plt.text(a, d, str(c),ha='center',weight=\"bold\")\n",
    "    plt.savefig(\"summary.png\", bbox_inches='tight')"
   ]
  }
 ],
 "metadata": {
  "kernelspec": {
   "display_name": "Python 3",
   "language": "python",
   "name": "python3"
  },
  "language_info": {
   "codemirror_mode": {
    "name": "ipython",
    "version": 3
   },
   "file_extension": ".py",
   "mimetype": "text/x-python",
   "name": "python",
   "nbconvert_exporter": "python",
   "pygments_lexer": "ipython3",
   "version": "3.6.9"
  }
 },
 "nbformat": 4,
 "nbformat_minor": 2
}
