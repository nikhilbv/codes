{
 "cells": [
  {
   "cell_type": "code",
   "execution_count": 15,
   "metadata": {},
   "outputs": [],
   "source": [
    "import json\n",
    "import os\n",
    "import numpy as np"
   ]
  },
  {
   "cell_type": "code",
   "execution_count": 2,
   "metadata": {},
   "outputs": [
    {
     "name": "stdout",
     "output_type": "stream",
     "text": [
      "{'BG': {'f1': [], 'mAP': 0.0, 'gt_total_annotation': 0, 'pred_match_total_annotation': 0, 'precisions': [], 'support': [], 'recalls': []}, 'pothole': {'f1': [], 'mAP': 1.0, 'gt_total_annotation': 7, 'pred_match_total_annotation': 7, 'precisions': [1.0, 1.0, 1.0, 1.0, 0.5, 1.0, 1.0], 'support': [], 'recalls': [1.0, 1.0, 1.0, 0.5, 0.5, 1.0, 1.0]}}\n"
     ]
    }
   ],
   "source": [
    "json_file_path = '/mnt/vtq-69/logs/mask_rcnn/100519_112427-evaluate_050-hmd-train-160519_183815/'\n",
    "json_file_name = 'classification_rpt-train.json'\n",
    "\n",
    "with open(os.path.join(json_file_path,json_file_name)) as json_file:  \n",
    "    json_data = json.load(json_file)\n",
    "    print(json_data)"
   ]
  },
  {
   "cell_type": "code",
   "execution_count": 11,
   "metadata": {},
   "outputs": [],
   "source": [
    "stats = {\n",
    "  'classname':[]\n",
    "  ,'precisions':[]\n",
    "  ,'recalls':[]\n",
    "}"
   ]
  },
  {
   "cell_type": "code",
   "execution_count": 12,
   "metadata": {},
   "outputs": [],
   "source": [
    "for classname in json_data.keys():\n",
    "    if classname=='BG':\n",
    "        continue\n",
    "    precisions = json_data[classname]['precisions']\n",
    "    recalls = json_data[classname]['recalls']\n",
    "    stats['classname'].append(classname)\n",
    "    stats['precisions'].append(precisions)\n",
    "    stats['recalls'].append(recalls)"
   ]
  },
  {
   "cell_type": "code",
   "execution_count": 17,
   "metadata": {},
   "outputs": [
    {
     "name": "stdout",
     "output_type": "stream",
     "text": [
      "stats : [[1.0, 1.0, 1.0, 1.0, 0.5, 1.0, 1.0]]\n"
     ]
    }
   ],
   "source": [
    "print(\"stats : {}\".format(stats['precisions']))"
   ]
  },
  {
   "cell_type": "code",
   "execution_count": 22,
   "metadata": {},
   "outputs": [
    {
     "name": "stdout",
     "output_type": "stream",
     "text": [
      "0.9285714285714286\n"
     ]
    }
   ],
   "source": [
    "avg_precisions = np.mean([stats['precisions'] for p in stats])\n",
    "print(\"avg_precisions : {}\".format(avg_precisions))"
   ]
  },
  {
   "cell_type": "code",
   "execution_count": 23,
   "metadata": {},
   "outputs": [
    {
     "name": "stdout",
     "output_type": "stream",
     "text": [
      "avg_recalls : 0.8571428571428571\n"
     ]
    }
   ],
   "source": [
    "avg_recalls = np.mean([stats['recalls'] for p in stats])\n",
    "print(\"avg_recalls : {}\".format(avg_recalls))"
   ]
  },
  {
   "cell_type": "code",
   "execution_count": null,
   "metadata": {},
   "outputs": [],
   "source": []
  }
 ],
 "metadata": {
  "kernelspec": {
   "display_name": "Python 3",
   "language": "python",
   "name": "python3"
  },
  "language_info": {
   "codemirror_mode": {
    "name": "ipython",
    "version": 3
   },
   "file_extension": ".py",
   "mimetype": "text/x-python",
   "name": "python",
   "nbconvert_exporter": "python",
   "pygments_lexer": "ipython3",
   "version": "3.6.7"
  }
 },
 "nbformat": 4,
 "nbformat_minor": 2
}
