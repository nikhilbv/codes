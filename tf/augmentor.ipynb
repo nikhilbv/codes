{
 "cells": [
  {
   "cell_type": "code",
   "execution_count": null,
   "metadata": {},
   "outputs": [],
   "source": [
    "# Some imports we will need for this notebook\n",
    "import Augmentor\n",
    "import numpy as np\n",
    "from PIL import Image\n",
    "import glob\n",
    "from natsort import natsorted\n",
    "import os\n",
    "import random\n",
    "import requests\n",
    "import zipfile\n",
    "import matplotlib.pyplot as plt\n",
    "%matplotlib inline"
   ]
  },
  {
   "cell_type": "code",
   "execution_count": null,
   "metadata": {},
   "outputs": [],
   "source": [
    "# Reading and sorting the image paths from the directories\n",
    "gt_binary_image = natsorted(glob.glob(\"/aimldl-dat/data-gaze/AIML_Aids/lnd-251119_114944/training/gt_binary_image/*.png\"))\n",
    "gt_image = natsorted(glob.glob(\"/aimldl-dat/data-gaze/AIML_Aids/lnd-251119_114944/training/gt_image/*.png\"))\n",
    "gt_instance_image = natsorted(glob.glob(\"/aimldl-dat/data-gaze/AIML_Aids/lnd-251119_114944/training/gt_instance_image/*.png\"))"
   ]
  },
  {
   "cell_type": "code",
   "execution_count": null,
   "metadata": {},
   "outputs": [],
   "source": [
    "for i in range(0, len(gt_binary_image)):\n",
    "    print(\"%s: Binary: %s | Original: %s | Instance: %s\" % \n",
    "          (i+1, os.path.basename(gt_binary_image[i]),\n",
    "           os.path.basename(gt_image[i]),\n",
    "           os.path.basename(gt_instance_image[i])))"
   ]
  },
  {
   "cell_type": "code",
   "execution_count": null,
   "metadata": {},
   "outputs": [],
   "source": [
    "collated_images_and_masks = list(zip(gt_binary_image, \n",
    "                                     gt_image, \n",
    "                                     gt_instance_image))\n",
    "collated_images_and_masks"
   ]
  },
  {
   "cell_type": "code",
   "execution_count": null,
   "metadata": {},
   "outputs": [],
   "source": [
    "images = [[np.asarray(Image.open(y)) for y in x] for x in collated_images_and_masks]"
   ]
  },
  {
   "cell_type": "code",
   "execution_count": null,
   "metadata": {},
   "outputs": [],
   "source": [
    "# r_index = random.randint(0, len(images)-1)\n",
    "for r_index in range(len(images)):\n",
    "    f, axarr = plt.subplots(1, 3, figsize=(20,15))\n",
    "    axarr[0].imshow(images[r_index][0])\n",
    "    axarr[1].imshow(images[r_index][1], cmap=\"gray\")\n",
    "    axarr[2].imshow(images[r_index][2], cmap=\"gray\");"
   ]
  },
  {
   "cell_type": "code",
   "execution_count": null,
   "metadata": {},
   "outputs": [],
   "source": [
    "p = Augmentor.DataPipeline(images)"
   ]
  },
  {
   "cell_type": "code",
   "execution_count": null,
   "metadata": {},
   "outputs": [],
   "source": [
    "# p.rotate(1, max_left_rotation=5, max_right_rotation=5)\n",
    "p.rotate_without_crop(1, max_left_rotation=25, max_right_rotation=25, expand=True)\n",
    "\n",
    "\n",
    "## Dont use for now\n",
    "# p.rotate_random_90(1)\n",
    "# p.zoom_random(1, percentage_area=0.5)"
   ]
  },
  {
   "cell_type": "code",
   "execution_count": null,
   "metadata": {},
   "outputs": [],
   "source": [
    "sample_size = 10\n",
    "augmented_images = p.sample(sample_size)"
   ]
  },
  {
   "cell_type": "code",
   "execution_count": null,
   "metadata": {},
   "outputs": [],
   "source": [
    "for r_index in range(sample_size):\n",
    "    f, axarr = plt.subplots(1, 3, figsize=(20,15))\n",
    "    axarr[0].imshow(augmented_images[r_index][0])\n",
    "    axarr[1].imshow(augmented_images[r_index][1], cmap=\"gray\")\n",
    "    axarr[2].imshow(augmented_images[r_index][2], cmap=\"gray\");"
   ]
  },
  {
   "cell_type": "code",
   "execution_count": null,
   "metadata": {},
   "outputs": [],
   "source": [
    "out_path = \"/aimldl-dat/logs/testing/lanenet-aug/output\"\n",
    "\n",
    "gt_instance_image_path = os.path.join(out_path,\"gt_instance_image\")\n",
    "gt_image_path = os.path.join(out_path,\"gt_image\")\n",
    "gt_binary_image_path = os.path.join(out_path,\"gt_binary_image\")\n",
    "\n",
    "os.mkdir(gt_instance_image_path)\n",
    "os.mkdir(gt_image_path)\n",
    "os.mkdir(gt_binary_image_path)"
   ]
  },
  {
   "cell_type": "code",
   "execution_count": null,
   "metadata": {},
   "outputs": [],
   "source": [
    "img_paths = [gt_binary_image_path, gt_image_path, gt_instance_image_path]\n",
    "for i in range(len(augmented_images)):\n",
    "    for j,path in enumerate(img_paths):\n",
    "        im = Image.fromarray(augmented_images[i][j])\n",
    "        imgname = str(i)+\".jpeg\"\n",
    "        im.save(os.path.join(path, imgname))"
   ]
  },
  {
   "cell_type": "code",
   "execution_count": null,
   "metadata": {},
   "outputs": [],
   "source": []
  }
 ],
 "metadata": {
  "kernelspec": {
   "display_name": "Python 3",
   "language": "python",
   "name": "python3"
  },
  "language_info": {
   "codemirror_mode": {
    "name": "ipython",
    "version": 3
   },
   "file_extension": ".py",
   "mimetype": "text/x-python",
   "name": "python",
   "nbconvert_exporter": "python",
   "pygments_lexer": "ipython3",
   "version": "3.6.8"
  }
 },
 "nbformat": 4,
 "nbformat_minor": 2
}
